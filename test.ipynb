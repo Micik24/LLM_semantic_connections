{
 "cells": [
  {
   "cell_type": "code",
   "execution_count": null,
   "id": "df38d081",
   "metadata": {},
   "outputs": [
    {
     "name": "stdout",
     "output_type": "stream",
     "text": [
      "hello world xd\n"
     ]
    }
   ],
   "source": [
    "print(\"hello world xd\")"
   ]
  },
  {
   "cell_type": "code",
   "execution_count": null,
   "id": "9fe4c491",
   "metadata": {},
   "outputs": [],
   "source": [
    "print(\"hello world lol\")"
   ]
  },
  {
   "cell_type": "code",
   "execution_count": null,
   "id": "e62fc462",
   "metadata": {},
   "outputs": [],
   "source": []
  }
 ],
 "metadata": {
  "kernelspec": {
   "display_name": ".venv",
   "language": "python",
   "name": "python3"
  },
  "language_info": {
   "codemirror_mode": {
    "name": "ipython",
    "version": 3
   },
   "file_extension": ".py",
   "mimetype": "text/x-python",
   "name": "python",
   "nbconvert_exporter": "python",
   "pygments_lexer": "ipython3",
   "version": "3.12.5"
  }
 },
 "nbformat": 4,
 "nbformat_minor": 5
}
