{
 "cells": [
  {
   "cell_type": "code",
   "execution_count": 12,
   "id": "38f8e9bd",
   "metadata": {},
   "outputs": [
    {
     "name": "stdout",
     "output_type": "stream",
     "text": [
      "Total words: 5831\n",
      "Single-token words: 5539\n",
      "Multi-token words: 292\n",
      "Multi-token words saved to multi_tokens.csv\n",
      "Single-token rows saved to single_tokens.csv\n"
     ]
    }
   ],
   "source": [
    "import csv\n",
    "from transformers import RobertaTokenizer\n",
    "\n",
    "# Load RoBERTa tokenizer\n",
    "tokenizer = RobertaTokenizer.from_pretrained(\"roberta-base\")\n",
    "\n",
    "input_csv = r\"NGSL_lists\\All_words_from_NGLS.csv\"           # Input file\n",
    "output_multi = \"multi_tokens.csv\" # File with multi-token words\n",
    "output_single = \"single_tokens.csv\" # File with single-token rows\n",
    "\n",
    "rows = []\n",
    "\n",
    "# Read all rows\n",
    "with open(input_csv, \"r\", encoding=\"utf-8\") as f:\n",
    "    reader = csv.reader(f)\n",
    "    rows = [row for row in reader if row]  # skip empty rows\n",
    "\n",
    "header = rows[0] if rows else []\n",
    "data = rows[1:] if len(rows) > 1 else rows\n",
    "\n",
    "single_rows = []\n",
    "multi_token = []\n",
    "\n",
    "# Process each row\n",
    "for row in data:\n",
    "    word = \" \" + row[0].strip()\n",
    "    tokens = tokenizer.tokenize(word)\n",
    "    if len(tokens) == 1:\n",
    "        single_rows.append(row)\n",
    "    else:\n",
    "        multi_token.append((word, \" \".join(tokens)))\n",
    "\n",
    "# Print statistics\n",
    "print(f\"Total words: {len(data)}\")\n",
    "print(f\"Single-token words: {len(single_rows)}\")\n",
    "print(f\"Multi-token words: {len(multi_token)}\")\n",
    "\n",
    "# Save multi-token words and their splits\n",
    "with open(output_multi, \"w\", encoding=\"utf-8\", newline=\"\") as f:\n",
    "    writer = csv.writer(f)\n",
    "    writer.writerow([\"Word\", \"Tokenization\"])\n",
    "    for word, tokens in multi_token:\n",
    "        writer.writerow([word, tokens])\n",
    "\n",
    "# Save all original columns for single-token rows\n",
    "with open(output_single, \"w\", encoding=\"utf-8\", newline=\"\") as f:\n",
    "    writer = csv.writer(f)\n",
    "    if header:\n",
    "        writer.writerow(header)\n",
    "    writer.writerows(single_rows)\n",
    "\n",
    "print(f\"Multi-token words saved to {output_multi}\")\n",
    "print(f\"Single-token rows saved to {output_single}\")"
   ]
  },
  {
   "cell_type": "code",
   "execution_count": null,
   "id": "440d128b",
   "metadata": {},
   "outputs": [],
   "source": []
  }
 ],
 "metadata": {
  "kernelspec": {
   "display_name": "roberta_env",
   "language": "python",
   "name": "python3"
  },
  "language_info": {
   "codemirror_mode": {
    "name": "ipython",
    "version": 3
   },
   "file_extension": ".py",
   "mimetype": "text/x-python",
   "name": "python",
   "nbconvert_exporter": "python",
   "pygments_lexer": "ipython3",
   "version": "3.12.5"
  }
 },
 "nbformat": 4,
 "nbformat_minor": 5
}
