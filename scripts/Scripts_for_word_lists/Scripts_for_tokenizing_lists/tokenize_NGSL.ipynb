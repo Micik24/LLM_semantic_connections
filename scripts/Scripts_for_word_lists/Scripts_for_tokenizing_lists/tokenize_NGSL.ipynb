{
 "cells": [
  {
   "cell_type": "code",
   "execution_count": 3,
   "id": "b95b1365",
   "metadata": {},
   "outputs": [],
   "source": [
    "import csv\n",
    "from transformers import RobertaTokenizer\n",
    "\n",
    "# Load RoBERTa tokenizer\n",
    "tokenizer = RobertaTokenizer.from_pretrained(\"roberta-base\")\n",
    "\n",
    "# Input and output file paths\n",
    "input_csv = r\"NGSL_lists\\NEWEST_NGSL.csv\"\n",
    "output_csv = \"output.csv\""
   ]
  },
  {
   "cell_type": "code",
   "execution_count": null,
   "id": "e18765af",
   "metadata": {},
   "outputs": [],
   "source": [
    "\n",
    "\n",
    "def process_csv(input_csv, output_csv):\n",
    "    with open(input_csv, newline='', encoding='utf-8') as infile, \\\n",
    "         open(output_csv, \"w\", newline='', encoding='utf-8') as outfile:\n",
    "\n",
    "        reader = csv.reader(infile)\n",
    "        writer = csv.writer(outfile)\n",
    "\n",
    "        for row in reader:\n",
    "            processed_row = []\n",
    "            seen_tokens = set()\n",
    "\n",
    "            for word in row:\n",
    "                # Tokenize the word\n",
    "                tokens = tokenizer.encode(\" \" + word, add_special_tokens=False)\n",
    "\n",
    "                if tokens:\n",
    "                    first_token_id = tokens[0]\n",
    "                    first_token_str = tokenizer.convert_ids_to_tokens([first_token_id])[0]\n",
    "\n",
    "                    # Add only if not duplicate\n",
    "                    if first_token_str not in seen_tokens and (len(first_token_str) >= 6 or len(tokens) == 1) and word != \"\":\n",
    "                        processed_row.append(first_token_str)\n",
    "                        seen_tokens.add(first_token_str)\n",
    "\n",
    "            writer.writerow(processed_row)\n",
    "\n"
   ]
  },
  {
   "cell_type": "code",
   "execution_count": 11,
   "id": "ff629df6",
   "metadata": {},
   "outputs": [
    {
     "name": "stdout",
     "output_type": "stream",
     "text": [
      "Processed CSV saved as output.csv\n"
     ]
    }
   ],
   "source": [
    "process_csv(input_csv, output_csv)\n",
    "print(f\"Processed CSV saved as {output_csv}\")"
   ]
  },
  {
   "cell_type": "code",
   "execution_count": null,
   "id": "cfeab349",
   "metadata": {},
   "outputs": [],
   "source": []
  }
 ],
 "metadata": {
  "kernelspec": {
   "display_name": "roberta_env",
   "language": "python",
   "name": "python3"
  },
  "language_info": {
   "codemirror_mode": {
    "name": "ipython",
    "version": 3
   },
   "file_extension": ".py",
   "mimetype": "text/x-python",
   "name": "python",
   "nbconvert_exporter": "python",
   "pygments_lexer": "ipython3",
   "version": "3.12.5"
  }
 },
 "nbformat": 4,
 "nbformat_minor": 5
}
