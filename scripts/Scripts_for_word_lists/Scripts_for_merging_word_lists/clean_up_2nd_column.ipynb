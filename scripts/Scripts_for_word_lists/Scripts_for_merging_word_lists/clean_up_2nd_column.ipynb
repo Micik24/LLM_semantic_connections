{
 "cells": [
  {
   "cell_type": "code",
   "execution_count": 4,
   "id": "9948a367",
   "metadata": {},
   "outputs": [],
   "source": [
    "import pandas as pd\n",
    "\n",
    "# Read file as single column\n",
    "df = pd.read_csv(r\"NGSL_lists\\Single_token_All_NGSL.csv\", header=None, sep=\"|\")\n",
    "\n",
    "def clean_row(cell):\n",
    "    if pd.isna(cell):\n",
    "        return []\n",
    "    # Split by ; then by ,\n",
    "    parts = [w.strip() for group in str(cell).split(\";\") for w in group.split(\",\")]\n",
    "    # Deduplicate while preserving order\n",
    "    seen = set()\n",
    "    unique_parts = []\n",
    "    for p in parts:\n",
    "        if p not in seen:\n",
    "            seen.add(p)\n",
    "            unique_parts.append(p)\n",
    "    return unique_parts\n",
    "\n",
    "# Apply cleaning\n",
    "expanded = df[0].apply(clean_row)\n",
    "\n",
    "# Expand into multiple columns\n",
    "new_df = pd.DataFrame(expanded.tolist())\n",
    "\n",
    "# Save cleaned version\n",
    "new_df.to_csv(\"cleaned_file.csv\", index=False, header=False)"
   ]
  },
  {
   "cell_type": "code",
   "execution_count": null,
   "id": "2a502f75",
   "metadata": {},
   "outputs": [],
   "source": []
  }
 ],
 "metadata": {
  "kernelspec": {
   "display_name": "roberta_env",
   "language": "python",
   "name": "python3"
  },
  "language_info": {
   "codemirror_mode": {
    "name": "ipython",
    "version": 3
   },
   "file_extension": ".py",
   "mimetype": "text/x-python",
   "name": "python",
   "nbconvert_exporter": "python",
   "pygments_lexer": "ipython3",
   "version": "3.12.5"
  }
 },
 "nbformat": 4,
 "nbformat_minor": 5
}
