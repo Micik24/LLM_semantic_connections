{
 "cells": [
  {
   "cell_type": "code",
   "execution_count": 4,
   "id": "ca7786ba",
   "metadata": {},
   "outputs": [],
   "source": [
    "import pandas as pd\n",
    "\n",
    "def process_csv(input_file, output_file, start_row, clear=True):\n",
    "    \"\"\"\n",
    "    input_file: path to input CSV\n",
    "    output_file: path to save output CSV\n",
    "    start_row: starting row index (0-based) where modifications begin\n",
    "    clear: if True, clear columns 2 and 3, if False, remove them entirely\n",
    "    \"\"\"\n",
    "    # Read CSV\n",
    "    df = pd.read_csv(input_file)\n",
    "\n",
    "    if clear:\n",
    "        # Clear values in 2nd and 3rd column starting from start_row\n",
    "        df.iloc[start_row:, 1] = \"\"\n",
    "        df.iloc[start_row:, 2] = \"\"\n",
    "    else:\n",
    "        # Remove 2nd and 3rd columns completely starting from start_row\n",
    "        # Easiest way: split into two parts and drop\n",
    "        before = df.iloc[:start_row, :]\n",
    "        after = df.iloc[start_row:, :].drop(df.columns[[1, 2]], axis=1)\n",
    "        df = pd.concat([before, after], ignore_index=True)\n",
    "\n",
    "    # Save to new file\n",
    "    df.to_csv(output_file, index=False)\n",
    "\n"
   ]
  },
  {
   "cell_type": "code",
   "execution_count": 3,
   "id": "0ae50034",
   "metadata": {},
   "outputs": [
    {
     "name": "stdout",
     "output_type": "stream",
     "text": [
      "(5853, 18)\n"
     ]
    }
   ],
   "source": [
    "import pandas as pd\n",
    "\n",
    "def read_ragged_csv(file_path, output_path):\n",
    "    # Read file line by line\n",
    "    with open(file_path, \"r\", encoding=\"utf-8\") as f:\n",
    "        lines = [line.strip().split(\",\") for line in f]\n",
    "\n",
    "    # Find max number of columns\n",
    "    max_cols = max(len(row) for row in lines)\n",
    "\n",
    "    # Pad rows with empty strings so all have equal length\n",
    "    standardized = [row + [\"\"] * (max_cols - len(row)) for row in lines]\n",
    "\n",
    "    # Create DataFrame\n",
    "    df = pd.DataFrame(standardized)\n",
    "\n",
    "    # Save normalized version\n",
    "    df.to_csv(output_path, index=False)\n",
    "\n",
    "    return df\n",
    "\n",
    "# Example usage\n",
    "df = read_ragged_csv(r\"NGSL_lists\\All_words_from_NGLS.csv\", \"normalized.csv\")\n",
    "print(df.shape)"
   ]
  },
  {
   "cell_type": "code",
   "execution_count": 5,
   "id": "27057652",
   "metadata": {},
   "outputs": [],
   "source": [
    "\n",
    "# Example usage:\n",
    "# Clears 2nd and 3rd columns from row 5 onward\n",
    "process_csv(\"normalized.csv\", \"output.csv\", start_row=4840, clear=True)\n",
    "\n",
    "# Or removes the columns completely from row 5 onward\n",
    "# process_csv(\"input.csv\", \"output.csv\", start_row=5, clear=False)"
   ]
  },
  {
   "cell_type": "code",
   "execution_count": null,
   "id": "c38e27a2",
   "metadata": {},
   "outputs": [],
   "source": []
  }
 ],
 "metadata": {
  "kernelspec": {
   "display_name": "roberta_env",
   "language": "python",
   "name": "python3"
  },
  "language_info": {
   "codemirror_mode": {
    "name": "ipython",
    "version": 3
   },
   "file_extension": ".py",
   "mimetype": "text/x-python",
   "name": "python",
   "nbconvert_exporter": "python",
   "pygments_lexer": "ipython3",
   "version": "3.12.5"
  }
 },
 "nbformat": 4,
 "nbformat_minor": 5
}
