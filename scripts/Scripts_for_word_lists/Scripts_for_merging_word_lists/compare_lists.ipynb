{
 "cells": [
  {
   "cell_type": "code",
   "execution_count": 11,
   "id": "4622526e",
   "metadata": {},
   "outputs": [],
   "source": [
    "import csv\n",
    "\n",
    "def compare_csv_words(file1, file2, common_out=\"common.csv\", unique1_out=\"unique_file1.csv\", unique2_out=\"unique_file2.csv\"):\n",
    "    \"\"\"\n",
    "    Compare words between two CSV files (different columns), save results into new CSVs,\n",
    "    and return statistics.\n",
    "\n",
    "    Args:\n",
    "        file1 (str): Path to the first CSV file (takes 2nd column)\n",
    "        file2 (str): Path to the second CSV file (takes 1st column)\n",
    "        common_out (str): Path to save merged common words\n",
    "        unique1_out (str): Path to save unique words from file1\n",
    "        unique2_out (str): Path to save unique words from file2\n",
    "\n",
    "    Returns:\n",
    "        dict: statistics\n",
    "    \"\"\"\n",
    "\n",
    "    # --- Read file1 (index words by 2nd column) ---\n",
    "    words1 = {}\n",
    "    with open(file1, newline='', encoding=\"latin-1\") as csvfile:\n",
    "        reader = csv.reader(csvfile)\n",
    "        for row in reader:\n",
    "            if row and len(row) > 1:\n",
    "                words1[row[1].strip()] = row  # key = word, value = full row\n",
    "\n",
    "    # --- Read file2 (index words by 1st column) ---\n",
    "    words2 = {}\n",
    "    with open(file2, newline='', encoding=\"latin-1\") as csvfile:\n",
    "        reader = csv.reader(csvfile)\n",
    "        for row in reader:\n",
    "            if row:\n",
    "                words2[row[0].strip()] = row  # key = word, value = full row\n",
    "\n",
    "    set1, set2 = set(words1.keys()), set(words2.keys())\n",
    "\n",
    "    # --- Find common and unique words ---\n",
    "    common_words = set1 & set2\n",
    "    unique_file1 = set1 - set2\n",
    "    unique_file2 = set2 - set1\n",
    "\n",
    "    # --- Write common merged rows ---\n",
    "    with open(common_out, \"w\", newline='', encoding=\"latin-1\") as csvfile:\n",
    "        writer = csv.writer(csvfile)\n",
    "        # optional header\n",
    "        writer.writerow([\"Word\", \"File1_Row\", \"File2_Row\"])\n",
    "        for word in sorted(common_words):\n",
    "            writer.writerow([word, words1[word], words2[word]])\n",
    "\n",
    "    # --- Write unique file1 rows ---\n",
    "    with open(unique1_out, \"w\", newline='', encoding=\"latin-1\") as csvfile:\n",
    "        writer = csv.writer(csvfile)\n",
    "        writer.writerow([\"Word\", \"File1_Row\"])\n",
    "        for word in sorted(unique_file1):\n",
    "            writer.writerow([word, words1[word]])\n",
    "\n",
    "    # --- Write unique file2 rows ---\n",
    "    with open(unique2_out, \"w\", newline='', encoding=\"latin-1\") as csvfile:\n",
    "        writer = csv.writer(csvfile)\n",
    "        writer.writerow([\"Word\", \"File2_Row\"])\n",
    "        for word in sorted(unique_file2):\n",
    "            writer.writerow([word, words2[word]])\n",
    "\n",
    "    # --- Return stats ---\n",
    "    return {\n",
    "        \"common_count\": len(common_words),\n",
    "        \"common_words\": common_words,\n",
    "        \"unique_file1_count\": len(unique_file1),\n",
    "        \"unique_file1_words\": unique_file1,\n",
    "        \"unique_file2_count\": len(unique_file2),\n",
    "        \"unique_file2_words\": unique_file2,\n",
    "        \"total_file1\": len(set1),\n",
    "        \"total_file2\": len(set2)\n",
    "    }\n"
   ]
  },
  {
   "cell_type": "code",
   "execution_count": 10,
   "id": "fc342de1",
   "metadata": {},
   "outputs": [
    {
     "name": "stdout",
     "output_type": "stream",
     "text": [
      "Common words: 4031\n",
      "Unique to file1: 1020 out of 5051\n",
      "Unique to file2: 801 out of 4832\n"
     ]
    }
   ],
   "source": [
    "result = compare_csv_words(r\"NGSL_lists\\NGSL-GR_rank.csv\", \"4_NGSL_lists_combined.csv\")\n",
    "\n",
    "print(\"Common words:\", result[\"common_count\"])\n",
    "print(\"Unique to file1:\", result[\"unique_file1_count\"], \"out of\", result[\"total_file1\"])\n",
    "print(\"Unique to file2:\", result[\"unique_file2_count\"], \"out of\", result[\"total_file2\"])"
   ]
  },
  {
   "cell_type": "code",
   "execution_count": null,
   "id": "2b1a1a0f",
   "metadata": {},
   "outputs": [],
   "source": []
  }
 ],
 "metadata": {
  "kernelspec": {
   "display_name": "roberta_env",
   "language": "python",
   "name": "python3"
  },
  "language_info": {
   "codemirror_mode": {
    "name": "ipython",
    "version": 3
   },
   "file_extension": ".py",
   "mimetype": "text/x-python",
   "name": "python",
   "nbconvert_exporter": "python",
   "pygments_lexer": "ipython3",
   "version": "3.12.5"
  }
 },
 "nbformat": 4,
 "nbformat_minor": 5
}
