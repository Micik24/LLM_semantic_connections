{
 "cells": [
  {
   "cell_type": "code",
   "execution_count": 1,
   "id": "307c261c",
   "metadata": {},
   "outputs": [],
   "source": [
    "import csv\n",
    "from collections import defaultdict\n",
    "\n",
    "def combine_csv_files_merge_rows(output_file, *input_files):\n",
    "    \"\"\"\n",
    "    Combine multiple CSV files into one.\n",
    "    Rows with the same first-column value are merged into one row.\n",
    "    For subsequent columns, duplicate values are removed.\n",
    "    \"\"\"\n",
    "\n",
    "    merged_data = defaultdict(lambda: defaultdict(set))\n",
    "    header = None\n",
    "\n",
    "    # Read input files\n",
    "    for file in input_files:\n",
    "        with open(file, newline='', encoding=\"latin-1\") as infile:\n",
    "            reader = csv.reader(infile)\n",
    "            file_header = next(reader, None)\n",
    "\n",
    "            # Use header from the first file\n",
    "            if header is None and file_header:\n",
    "                header = file_header\n",
    "\n",
    "            for row in reader:\n",
    "                if not row:\n",
    "                    continue\n",
    "                key = row[0].strip()\n",
    "\n",
    "                for col_index, value in enumerate(row):\n",
    "                    if value.strip():\n",
    "                        merged_data[key][col_index].add(value.strip())\n",
    "\n",
    "    # Write combined file\n",
    "    with open(output_file, \"w\", newline='', encoding=\"latin-1\") as outfile:\n",
    "        writer = csv.writer(outfile)\n",
    "\n",
    "        if header:\n",
    "            writer.writerow(header)\n",
    "\n",
    "        for key, cols in merged_data.items():\n",
    "            max_col = max(cols.keys())\n",
    "            row_out = []\n",
    "            for col_index in range(max_col + 1):\n",
    "                if col_index in cols:\n",
    "                    # join unique values with semicolon\n",
    "                    row_out.append(\";\".join(sorted(cols[col_index])))\n",
    "                else:\n",
    "                    row_out.append(\"\")\n",
    "            writer.writerow(row_out)\n",
    "\n",
    "    print(f\"✅ Merged CSV saved as {output_file}\")\n",
    "\n",
    "\n"
   ]
  },
  {
   "cell_type": "code",
   "execution_count": 2,
   "id": "0559af2c",
   "metadata": {},
   "outputs": [
    {
     "name": "stdout",
     "output_type": "stream",
     "text": [
      "✅ Merged CSV saved as All_words_from_NGLS.csv\n"
     ]
    }
   ],
   "source": [
    "combine_csv_files_merge_rows(\n",
    "    \"All_words_from_NGLS.csv\",\n",
    "    r\"4_NGSL_lists_combined.csv\",\n",
    "    r\"unique_file1.csv\",\n",
    "    r\"unique_file2.csv\",\n",
    ")"
   ]
  },
  {
   "cell_type": "code",
   "execution_count": null,
   "id": "51f15d11",
   "metadata": {},
   "outputs": [],
   "source": []
  }
 ],
 "metadata": {
  "kernelspec": {
   "display_name": "roberta_env",
   "language": "python",
   "name": "python3"
  },
  "language_info": {
   "codemirror_mode": {
    "name": "ipython",
    "version": 3
   },
   "file_extension": ".py",
   "mimetype": "text/x-python",
   "name": "python",
   "nbconvert_exporter": "python",
   "pygments_lexer": "ipython3",
   "version": "3.12.5"
  }
 },
 "nbformat": 4,
 "nbformat_minor": 5
}
