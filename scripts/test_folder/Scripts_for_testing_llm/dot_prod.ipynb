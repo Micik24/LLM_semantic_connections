{
 "cells": [
  {
   "cell_type": "code",
   "execution_count": 5,
   "id": "933f71ea",
   "metadata": {},
   "outputs": [
    {
     "name": "stdout",
     "output_type": "stream",
     "text": [
      "Dot product: 17.117238687196\n"
     ]
    }
   ],
   "source": [
    "def dot_product(vec1_str, vec2_str):\n",
    "    # Convert the space-separated strings to lists of floats\n",
    "    vec1 = list(map(float, vec1_str.strip().split()))\n",
    "    vec2 = list(map(float, vec2_str.strip().split()))\n",
    "    \n",
    "    # Ensure both vectors are of the same length\n",
    "    if len(vec1) != len(vec2):\n",
    "        raise ValueError(\"Vectors must be of the same length.\")\n",
    "    \n",
    "    # Compute dot product\n",
    "    return sum(a * b for a, b in zip(vec1, vec2))\n",
    "\n",
    "# Example usage\n",
    "v1 = \"-0.062414 -0.560536 -0.508293 -0.59089 0.7421800000000001 0.711538 -0.02257 0.090533 -0.9490620000000001 -0.566302 -1.645568 0.616737 0.261695 0.254362 -0.920992 -0.358148 0.42577200000000004 -0.041353 0.56251 0.545823 -0.31060299999999996 -0.638718 -0.12090600000000001 -0.617686 -0.316552 0.073472 -0.5336270000000001 -0.310579 -1.078706 0.726189 -0.05508599999999998 0.299959 -0.733599 0.347045 0.284053 0.047478 -0.647869 3.658705 -0.949971 -0.20546599999999998 0.9323269999999999 -0.6390279999999999 0.132302 0.882142 -0.426968 0.319296 1.120391 -0.20909899999999998 -0.741549 -0.6846369999999999\"\n",
    "v2 = \"-0.477911 -0.8716520000000001 -0.333329 0.9533799999999999 -0.176804 0.561491 -0.221433 -1.034347 -0.443489 -0.212845 -0.686837 0.24239300000000003 0.217445 -0.241946 -0.327579 -0.082232 -0.11099899999999999 0.018775999999999998 0.022606 0.24200100000000002 -1.008711 -0.396313 0.580446 0.0039919999999999956 0.685024 0.465723 0.668583 -0.25035399999999997 0.440385 0.426996 0.636382 0.841552 -0.09581999999999999 -0.640844 0.338264 -0.782307 0.06940299999999999 3.626431 0.032757999999999954 0.698604 -0.006205000000000002 0.254357 0.100737 0.863457 0.252118 0.747518 0.600579 0.633277 -0.509582 0.185866\"\n",
    "\n",
    "try:\n",
    "    result = dot_product(v1, v2)\n",
    "    print(\"Dot product:\", result)\n",
    "except ValueError as e:\n",
    "    print(\"Error:\", e)"
   ]
  },
  {
   "cell_type": "code",
   "execution_count": null,
   "id": "f1dda84b",
   "metadata": {},
   "outputs": [],
   "source": []
  }
 ],
 "metadata": {
  "kernelspec": {
   "display_name": "roberta_env",
   "language": "python",
   "name": "python3"
  },
  "language_info": {
   "codemirror_mode": {
    "name": "ipython",
    "version": 3
   },
   "file_extension": ".py",
   "mimetype": "text/x-python",
   "name": "python",
   "nbconvert_exporter": "python",
   "pygments_lexer": "ipython3",
   "version": "3.12.5"
  }
 },
 "nbformat": 4,
 "nbformat_minor": 5
}
