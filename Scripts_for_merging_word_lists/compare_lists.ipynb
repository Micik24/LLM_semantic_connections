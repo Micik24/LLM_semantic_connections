{
 "cells": [
  {
   "cell_type": "code",
   "execution_count": null,
   "id": "4622526e",
   "metadata": {},
   "outputs": [],
   "source": [
    "import csv\n",
    "\n",
    "def compare_csv_words(file1, file2):\n",
    "    \"\"\"\n",
    "    Compare words in the first column of two CSV files and\n",
    "    return the number of common words and the sets involved.\n",
    "\n",
    "    Args:\n",
    "        file1 (str): Path to the first CSV file\n",
    "        file2 (str): Path to the second CSV file\n",
    "\n",
    "    Returns:\n",
    "        tuple: (count_common, common_words, words1, words2)\n",
    "    \"\"\"\n",
    "\n",
    "    def read_first_column(filename):\n",
    "        words = set()\n",
    "        with open(filename, newline='', encoding=\"utf-8\") as csvfile:\n",
    "            reader = csv.reader(csvfile)\n",
    "            for row in reader:\n",
    "                if row:  # avoid empty lines\n",
    "                    words.add(row[0].strip())\n",
    "        return words\n",
    "\n",
    "    words1 = read_first_column(file1)\n",
    "    words2 = read_first_column(file2)\n",
    "\n",
    "    common_words = words1.intersection(words2)\n",
    "\n",
    "    return len(common_words), common_words, words1, words2\n"
   ]
  },
  {
   "cell_type": "code",
   "execution_count": null,
   "id": "fc342de1",
   "metadata": {},
   "outputs": [],
   "source": [
    "# Example usage:\n",
    "count, common, list1, list2 = compare_csv_words(\"NGSL_lists\\NGSL-GR_rank.csv\", \"NGSL_lists\\NGSL_1.2_lemmatized_for_research.csv\")\n",
    "print(f\"Number of common words: {count}\")\n",
    "print(\"Common words:\", common)"
   ]
  },
  {
   "cell_type": "code",
   "execution_count": null,
   "id": "2b1a1a0f",
   "metadata": {},
   "outputs": [],
   "source": []
  }
 ],
 "metadata": {
  "kernelspec": {
   "display_name": "roberta_env",
   "language": "python",
   "name": "python3"
  },
  "language_info": {
   "codemirror_mode": {
    "name": "ipython",
    "version": 3
   },
   "file_extension": ".py",
   "mimetype": "text/x-python",
   "name": "python",
   "nbconvert_exporter": "python",
   "pygments_lexer": "ipython3",
   "version": "3.12.5"
  }
 },
 "nbformat": 4,
 "nbformat_minor": 5
}
