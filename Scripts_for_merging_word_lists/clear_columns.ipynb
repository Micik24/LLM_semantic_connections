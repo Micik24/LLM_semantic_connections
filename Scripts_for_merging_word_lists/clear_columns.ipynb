{
 "cells": [
  {
   "cell_type": "code",
   "execution_count": 3,
   "id": "ca7786ba",
   "metadata": {},
   "outputs": [
    {
     "ename": "ModuleNotFoundError",
     "evalue": "No module named 'pandas'",
     "output_type": "error",
     "traceback": [
      "\u001b[31m---------------------------------------------------------------------------\u001b[39m",
      "\u001b[31mModuleNotFoundError\u001b[39m                       Traceback (most recent call last)",
      "\u001b[36mCell\u001b[39m\u001b[36m \u001b[39m\u001b[32mIn[3]\u001b[39m\u001b[32m, line 1\u001b[39m\n\u001b[32m----> \u001b[39m\u001b[32m1\u001b[39m \u001b[38;5;28;01mimport\u001b[39;00m\u001b[38;5;250m \u001b[39m\u001b[34;01mpandas\u001b[39;00m\u001b[38;5;250m \u001b[39m\u001b[38;5;28;01mas\u001b[39;00m\u001b[38;5;250m \u001b[39m\u001b[34;01mpd\u001b[39;00m\n\u001b[32m      3\u001b[39m \u001b[38;5;28;01mdef\u001b[39;00m\u001b[38;5;250m \u001b[39m\u001b[34mprocess_csv\u001b[39m(input_file, output_file, start_row, clear=\u001b[38;5;28;01mTrue\u001b[39;00m):\n\u001b[32m      4\u001b[39m \u001b[38;5;250m    \u001b[39m\u001b[33;03m\"\"\"\u001b[39;00m\n\u001b[32m      5\u001b[39m \u001b[33;03m    input_file: path to input CSV\u001b[39;00m\n\u001b[32m      6\u001b[39m \u001b[33;03m    output_file: path to save output CSV\u001b[39;00m\n\u001b[32m      7\u001b[39m \u001b[33;03m    start_row: starting row index (0-based) where modifications begin\u001b[39;00m\n\u001b[32m      8\u001b[39m \u001b[33;03m    clear: if True, clear columns 2 and 3, if False, remove them entirely\u001b[39;00m\n\u001b[32m      9\u001b[39m \u001b[33;03m    \"\"\"\u001b[39;00m\n",
      "\u001b[31mModuleNotFoundError\u001b[39m: No module named 'pandas'"
     ]
    }
   ],
   "source": [
    "import pandas as pd\n",
    "\n",
    "def process_csv(input_file, output_file, start_row, clear=True):\n",
    "    \"\"\"\n",
    "    input_file: path to input CSV\n",
    "    output_file: path to save output CSV\n",
    "    start_row: starting row index (0-based) where modifications begin\n",
    "    clear: if True, clear columns 2 and 3, if False, remove them entirely\n",
    "    \"\"\"\n",
    "    # Read CSV\n",
    "    df = pd.read_csv(input_file)\n",
    "\n",
    "    if clear:\n",
    "        # Clear values in 2nd and 3rd column starting from start_row\n",
    "        df.iloc[start_row:, 1] = \"\"\n",
    "        df.iloc[start_row:, 2] = \"\"\n",
    "    else:\n",
    "        # Remove 2nd and 3rd columns completely starting from start_row\n",
    "        # Easiest way: split into two parts and drop\n",
    "        before = df.iloc[:start_row, :]\n",
    "        after = df.iloc[start_row:, :].drop(df.columns[[1, 2]], axis=1)\n",
    "        df = pd.concat([before, after], ignore_index=True)\n",
    "\n",
    "    # Save to new file\n",
    "    df.to_csv(output_file, index=False)\n",
    "\n",
    "\n",
    "# Example usage:\n",
    "# Clears 2nd and 3rd columns from row 5 onward\n",
    "process_csv(r\"NGSL_lists\\All_words_from_NGLS.csv\", \"output.csv\", start_row=4840, clear=False)\n",
    "\n",
    "# Or removes the columns completely from row 5 onward\n",
    "# process_csv(\"input.csv\", \"output.csv\", start_row=5, clear=False)"
   ]
  },
  {
   "cell_type": "code",
   "execution_count": null,
   "id": "27057652",
   "metadata": {},
   "outputs": [],
   "source": []
  }
 ],
 "metadata": {
  "kernelspec": {
   "display_name": "roberta_env",
   "language": "python",
   "name": "python3"
  },
  "language_info": {
   "codemirror_mode": {
    "name": "ipython",
    "version": 3
   },
   "file_extension": ".py",
   "mimetype": "text/x-python",
   "name": "python",
   "nbconvert_exporter": "python",
   "pygments_lexer": "ipython3",
   "version": "3.12.5"
  }
 },
 "nbformat": 4,
 "nbformat_minor": 5
}
